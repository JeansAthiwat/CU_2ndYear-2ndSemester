{
  "cells": [
    {
      "cell_type": "markdown",
      "metadata": {
        "id": "view-in-github",
        "colab_type": "text"
      },
      "source": [
        "<a href=\"https://colab.research.google.com/github/JeansAthiwat/CU_2ndYear-2ndSemester/blob/main/PEFT_GPT_InnovationSprint_Participant.ipynb\" target=\"_parent\"><img src=\"https://colab.research.google.com/assets/colab-badge.svg\" alt=\"Open In Colab\"/></a>"
      ]
    },
    {
      "cell_type": "markdown",
      "id": "d9475029",
      "metadata": {
        "id": "d9475029"
      },
      "source": [
        "# PEFT with Foundation Model (GPT) Using NeMo\n",
        "In this notebook, we demonstrate how to use NeMo's implementation to apply PEFT in NeMo.\n",
        "One commonly used PEFT technique is LoRA (Low Rank Adaptation) for fine-tuning large language models. Our implementation is based on the [paper](https://openreview.net/pdf?id=nZeVKeeFYf9) by Hu et al.\n",
        "\n",
        "- We will also be using GPT as the language model, but the same recipe can be used for other PEFT techniques and language models.\n",
        "We are going to show you how to:\n",
        "1. Train a LoRA model on a simple Extractive QA task.\n",
        "2. Inspect the trained LoRA model showing the parameters it contains.\n",
        "3. Run inference with the base model with the LoRA parameters."
      ]
    },
    {
      "cell_type": "markdown",
      "id": "73eab70a",
      "metadata": {
        "id": "73eab70a"
      },
      "source": [
        "<br><br>"
      ]
    },
    {
      "cell_type": "markdown",
      "id": "5f09180e",
      "metadata": {
        "id": "5f09180e"
      },
      "source": [
        "# Tasks and Datasets\n",
        "We will be using LoRA to teach our GPT model to do Extractive Question Answering.\n",
        "\n",
        "We will be using the [SQuAD](https://rajpurkar.github.io/SQuAD-explorer/) reading comprehension dataset, consisting of questions posed by crowd workers on a set of Wikipedia articles, where the answer to every question is a segment of text. More information on [SQuAD](https://rajpurkar.github.io/SQuAD-explorer/) can be found on their website or in their paper by Rajpurkar et. al \"[Know What You Don’t Know: Unanswerable Questions for SQuAD](https://arxiv.org/pdf/1806.03822.pdf)\".\n",
        "\n",
        "LoRA (and all PEFT tuning) models expect at least two fields in the jsonl files. The `input` field should contain all the tokens necessary for the model to generate the `output`. For example for extractive QA, the `input` should contain the context text as well as the question.\n",
        "\n",
        "```\n",
        "[\n",
        "    {\"input\": \"User: Context: [CONTEXT_1] Question: [QUESTION_1]\\n\\nAssistant:\", \"output\": [ANSWER_1]},\n",
        "    {\"input\": \"User: Context: [CONTEXT_2] Question: [QUESTION_2]\\n\\nAssistant:\", \"output\": [ANSWER_2]},\n",
        "    {\"input\": \"User: Context: [CONTEXT_3] Question: [QUESTION_3]\\n\\nAssistant:\", \"output\": [ANSWER_3]},\n",
        "]\n",
        "```\n",
        "Note that we use keywords in the input like `Context:`, `Question:` to separate the text representing the context and question. We also use the keyword `User:` and end each of the input with `\\n\\nAssistant:` tokens. These are recommended because NeMo's instruction-tuned models are trained with a prefix of `User:` and suffix `\\n\\nAssistant:`."
      ]
    },
    {
      "cell_type": "code",
      "execution_count": null,
      "id": "2d9f5ef4",
      "metadata": {
        "id": "2d9f5ef4",
        "outputId": "e93e9222-0d42-4ead-a405-a393c9dae9ee",
        "colab": {
          "base_uri": "https://localhost:8080/"
        }
      },
      "outputs": [
        {
          "output_type": "stream",
          "name": "stdout",
          "text": [
            "Collecting wget\n",
            "  Downloading wget-3.2.zip (10 kB)\n",
            "  Preparing metadata (setup.py) ... \u001b[?25l\u001b[?25hdone\n",
            "Building wheels for collected packages: wget\n",
            "  Building wheel for wget (setup.py) ... \u001b[?25l\u001b[?25hdone\n",
            "  Created wheel for wget: filename=wget-3.2-py3-none-any.whl size=9656 sha256=6e24ae406f3257cffb9371f8b7a1c3dca5c81ab3e041875215c64cd50b5afd9d\n",
            "  Stored in directory: /root/.cache/pip/wheels/8b/f1/7f/5c94f0a7a505ca1c81cd1d9208ae2064675d97582078e6c769\n",
            "Successfully built wget\n",
            "Installing collected packages: wget\n",
            "Successfully installed wget-3.2\n"
          ]
        }
      ],
      "source": [
        "import os\n",
        "import wget"
      ]
    },
    {
      "cell_type": "markdown",
      "id": "0535ea65",
      "metadata": {
        "id": "0535ea65"
      },
      "source": [
        "Set up your data and work directory."
      ]
    },
    {
      "cell_type": "code",
      "execution_count": null,
      "id": "03a94e8d",
      "metadata": {
        "id": "03a94e8d"
      },
      "outputs": [],
      "source": [
        "# You can replace DATA_DIR and NEMO_DIR with your own locations\n",
        "DATA_DIR = \"data\"\n",
        "NEMO_DIR = \".\"\n",
        "os.makedirs(DATA_DIR, exist_ok=True)\n",
        "SQUAD_DIR = os.path.join(DATA_DIR, \"SQuAD\")\n",
        "os.makedirs(SQUAD_DIR, exist_ok=True)"
      ]
    },
    {
      "cell_type": "markdown",
      "id": "70339967",
      "metadata": {
        "id": "70339967"
      },
      "source": [
        "For each dataset we have preprocessing scripts pre-written in NeMo's example directory located in `examples/nlp`. Let's download those now."
      ]
    },
    {
      "cell_type": "code",
      "execution_count": null,
      "id": "ba89439e",
      "metadata": {
        "id": "ba89439e",
        "colab": {
          "base_uri": "https://localhost:8080/"
        },
        "outputId": "d91ce16e-7984-47c8-fa75-8025af9caa50"
      },
      "outputs": [
        {
          "output_type": "stream",
          "name": "stdout",
          "text": [
            "--2024-03-17 10:29:18--  https://raw.githubusercontent.com/NVIDIA/NeMo/main/scripts/dataset_processing/nlp/squad/prompt_learning_squad_preprocessing.py\n",
            "Resolving raw.githubusercontent.com (raw.githubusercontent.com)... 185.199.111.133, 185.199.109.133, 185.199.108.133, ...\n",
            "Connecting to raw.githubusercontent.com (raw.githubusercontent.com)|185.199.111.133|:443... connected.\n",
            "HTTP request sent, awaiting response... 200 OK\n",
            "Length: 6811 (6.7K) [text/plain]\n",
            "Saving to: ‘prompt_learning_squad_preprocessing.py’\n",
            "\n",
            "\r          prompt_le   0%[                    ]       0  --.-KB/s               \rprompt_learning_squ 100%[===================>]   6.65K  --.-KB/s    in 0s      \n",
            "\n",
            "2024-03-17 10:29:18 (42.7 MB/s) - ‘prompt_learning_squad_preprocessing.py’ saved [6811/6811]\n",
            "\n"
          ]
        }
      ],
      "source": [
        "# download the preprocessing scripts from github for the purpose of this tutorial\n",
        "BRANCH='main'\n",
        "! wget -nc https://raw.githubusercontent.com/NVIDIA/NeMo/{BRANCH}/scripts/dataset_processing/nlp/squad/prompt_learning_squad_preprocessing.py"
      ]
    },
    {
      "cell_type": "markdown",
      "id": "6ebe65a5",
      "metadata": {
        "id": "6ebe65a5"
      },
      "source": [
        "Now let's download and process the dataset."
      ]
    },
    {
      "cell_type": "code",
      "execution_count": null,
      "id": "16a8d635",
      "metadata": {
        "id": "16a8d635",
        "colab": {
          "base_uri": "https://localhost:8080/"
        },
        "outputId": "8d025664-0fb8-4fc2-bb2f-82674ef9d797"
      },
      "outputs": [
        {
          "output_type": "stream",
          "name": "stdout",
          "text": [
            "--2024-03-17 10:29:18--  https://rajpurkar.github.io/SQuAD-explorer/dataset/train-v1.1.json\n",
            "Resolving rajpurkar.github.io (rajpurkar.github.io)... 185.199.108.153, 185.199.109.153, 185.199.110.153, ...\n",
            "Connecting to rajpurkar.github.io (rajpurkar.github.io)|185.199.108.153|:443... connected.\n",
            "HTTP request sent, awaiting response... 200 OK\n",
            "Length: 30288272 (29M) [application/json]\n",
            "Saving to: ‘train-v1.1.json’\n",
            "\n",
            "train-v1.1.json     100%[===================>]  28.88M   186MB/s    in 0.2s    \n",
            "\n",
            "2024-03-17 10:29:18 (186 MB/s) - ‘train-v1.1.json’ saved [30288272/30288272]\n",
            "\n",
            "--2024-03-17 10:29:19--  https://rajpurkar.github.io/SQuAD-explorer/dataset/dev-v1.1.json\n",
            "Resolving rajpurkar.github.io (rajpurkar.github.io)... 185.199.108.153, 185.199.109.153, 185.199.110.153, ...\n",
            "Connecting to rajpurkar.github.io (rajpurkar.github.io)|185.199.108.153|:443... connected.\n",
            "HTTP request sent, awaiting response... 200 OK\n",
            "Length: 4854279 (4.6M) [application/json]\n",
            "Saving to: ‘dev-v1.1.json’\n",
            "\n",
            "dev-v1.1.json       100%[===================>]   4.63M  --.-KB/s    in 0.05s   \n",
            "\n",
            "2024-03-17 10:29:19 (84.8 MB/s) - ‘dev-v1.1.json’ saved [4854279/4854279]\n",
            "\n"
          ]
        }
      ],
      "source": [
        "# Download the SQuAD dataset\n",
        "!wget -nc https://rajpurkar.github.io/SQuAD-explorer/dataset/train-v1.1.json\n",
        "!wget -nc https://rajpurkar.github.io/SQuAD-explorer/dataset/dev-v1.1.json\n",
        "!mv train-v1.1.json {SQUAD_DIR}\n",
        "!mv dev-v1.1.json {SQUAD_DIR}"
      ]
    },
    {
      "cell_type": "markdown",
      "id": "91aab9ce",
      "metadata": {
        "id": "91aab9ce"
      },
      "source": [
        "We will run the script to preprocess our squad data."
      ]
    },
    {
      "cell_type": "code",
      "execution_count": null,
      "id": "2f5804ba",
      "metadata": {
        "id": "2f5804ba",
        "colab": {
          "base_uri": "https://localhost:8080/"
        },
        "outputId": "ebbb2770-55bb-406b-a822-3129c5020952"
      },
      "outputs": [
        {
          "output_type": "stream",
          "name": "stdout",
          "text": [
            "Saving train split to data/SQuAD/squad_train.jsonl\n",
            "100% 87599/87599 [00:00<00:00, 88072.78it/s]\n",
            "Saving val split to data/SQuAD/squad_val.jsonl\n",
            "100% 10570/10570 [00:00<00:00, 85972.85it/s]\n",
            "Saving test split to data/SQuAD/squad_test_ground_truth.jsonl\n",
            "100% 10570/10570 [00:00<00:00, 84925.59it/s]\n",
            "Saving test split to data/SQuAD/squad_test.jsonl\n",
            "100% 10570/10570 [00:00<00:00, 95977.63it/s]\n"
          ]
        }
      ],
      "source": [
        "# Preprocess squad data\n",
        "!python prompt_learning_squad_preprocessing.py --sft-format --data-dir {SQUAD_DIR}"
      ]
    },
    {
      "cell_type": "code",
      "execution_count": null,
      "id": "153b4d01",
      "metadata": {
        "id": "153b4d01",
        "colab": {
          "base_uri": "https://localhost:8080/"
        },
        "outputId": "514c85ce-0da9-4dd0-ece5-f188e5c096a5"
      },
      "outputs": [
        {
          "output_type": "stream",
          "name": "stdout",
          "text": [
            "{\"input\": \"User: Context:Super Bowl 50 was an American football game to determine the champion of the National Football League (NFL) for the 2015 season. The American Football Conference (AFC) champion Denver Broncos defeated the National Football Conference (NFC) champion Carolina Panthers 24\\u201310 to earn their third Super Bowl title. The game was played on February 7, 2016, at Levi's Stadium in the San Francisco Bay Area at Santa Clara, California. As this was the 50th Super Bowl, the league emphasized the \\\"golden anniversary\\\" with various gold-themed initiatives, as well as temporarily suspending the tradition of naming each Super Bowl game with Roman numerals (under which the game would have been known as \\\"Super Bowl L\\\"), so that the logo could prominently feature the Arabic numerals 50. Question:Which NFL team represented the AFC at Super Bowl 50?\\n\\nAssistant:\", \"output\": \"Denver Broncos\"}\n",
            "{\"input\": \"User: Context:Super Bowl 50 was an American football game to determine the champion of the National Football League (NFL) for the 2015 season. The American Football Conference (AFC) champion Denver Broncos defeated the National Football Conference (NFC) champion Carolina Panthers 24\\u201310 to earn their third Super Bowl title. The game was played on February 7, 2016, at Levi's Stadium in the San Francisco Bay Area at Santa Clara, California. As this was the 50th Super Bowl, the league emphasized the \\\"golden anniversary\\\" with various gold-themed initiatives, as well as temporarily suspending the tradition of naming each Super Bowl game with Roman numerals (under which the game would have been known as \\\"Super Bowl L\\\"), so that the logo could prominently feature the Arabic numerals 50. Question:Which NFL team represented the NFC at Super Bowl 50?\\n\\nAssistant:\", \"output\": \"Carolina Panthers\"}\n",
            "{\"input\": \"User: Context:Super Bowl 50 was an American football game to determine the champion of the National Football League (NFL) for the 2015 season. The American Football Conference (AFC) champion Denver Broncos defeated the National Football Conference (NFC) champion Carolina Panthers 24\\u201310 to earn their third Super Bowl title. The game was played on February 7, 2016, at Levi's Stadium in the San Francisco Bay Area at Santa Clara, California. As this was the 50th Super Bowl, the league emphasized the \\\"golden anniversary\\\" with various gold-themed initiatives, as well as temporarily suspending the tradition of naming each Super Bowl game with Roman numerals (under which the game would have been known as \\\"Super Bowl L\\\"), so that the logo could prominently feature the Arabic numerals 50. Question:Where did Super Bowl 50 take place?\\n\\nAssistant:\", \"output\": \"Santa Clara, California\"}\n",
            "{\"input\": \"User: Context:Super Bowl 50 was an American football game to determine the champion of the National Football League (NFL) for the 2015 season. The American Football Conference (AFC) champion Denver Broncos defeated the National Football Conference (NFC) champion Carolina Panthers 24\\u201310 to earn their third Super Bowl title. The game was played on February 7, 2016, at Levi's Stadium in the San Francisco Bay Area at Santa Clara, California. As this was the 50th Super Bowl, the league emphasized the \\\"golden anniversary\\\" with various gold-themed initiatives, as well as temporarily suspending the tradition of naming each Super Bowl game with Roman numerals (under which the game would have been known as \\\"Super Bowl L\\\"), so that the logo could prominently feature the Arabic numerals 50. Question:Which NFL team won Super Bowl 50?\\n\\nAssistant:\", \"output\": \"Denver Broncos\"}\n",
            "{\"input\": \"User: Context:Architecturally, the school has a Catholic character. Atop the Main Building's gold dome is a golden statue of the Virgin Mary. Immediately in front of the Main Building and facing it, is a copper statue of Christ with arms upraised with the legend \\\"Venite Ad Me Omnes\\\". Next to the Main Building is the Basilica of the Sacred Heart. Immediately behind the basilica is the Grotto, a Marian place of prayer and reflection. It is a replica of the grotto at Lourdes, France where the Virgin Mary reputedly appeared to Saint Bernadette Soubirous in 1858. At the end of the main drive (and in a direct line that connects through 3 statues and the Gold Dome), is a simple, modern stone statue of Mary. Question:To whom did the Virgin Mary allegedly appear in 1858 in Lourdes France?\\n\\nAssistant:\", \"output\": \"Saint Bernadette Soubirous\"}\n",
            "{\"input\": \"User: Context:Architecturally, the school has a Catholic character. Atop the Main Building's gold dome is a golden statue of the Virgin Mary. Immediately in front of the Main Building and facing it, is a copper statue of Christ with arms upraised with the legend \\\"Venite Ad Me Omnes\\\". Next to the Main Building is the Basilica of the Sacred Heart. Immediately behind the basilica is the Grotto, a Marian place of prayer and reflection. It is a replica of the grotto at Lourdes, France where the Virgin Mary reputedly appeared to Saint Bernadette Soubirous in 1858. At the end of the main drive (and in a direct line that connects through 3 statues and the Gold Dome), is a simple, modern stone statue of Mary. Question:What is in front of the Notre Dame Main Building?\\n\\nAssistant:\", \"output\": \"a copper statue of Christ\"}\n",
            "{\"input\": \"User: Context:Architecturally, the school has a Catholic character. Atop the Main Building's gold dome is a golden statue of the Virgin Mary. Immediately in front of the Main Building and facing it, is a copper statue of Christ with arms upraised with the legend \\\"Venite Ad Me Omnes\\\". Next to the Main Building is the Basilica of the Sacred Heart. Immediately behind the basilica is the Grotto, a Marian place of prayer and reflection. It is a replica of the grotto at Lourdes, France where the Virgin Mary reputedly appeared to Saint Bernadette Soubirous in 1858. At the end of the main drive (and in a direct line that connects through 3 statues and the Gold Dome), is a simple, modern stone statue of Mary. Question:The Basilica of the Sacred heart at Notre Dame is beside to which structure?\\n\\nAssistant:\", \"output\": \"the Main Building\"}\n",
            "{\"input\": \"User: Context:Architecturally, the school has a Catholic character. Atop the Main Building's gold dome is a golden statue of the Virgin Mary. Immediately in front of the Main Building and facing it, is a copper statue of Christ with arms upraised with the legend \\\"Venite Ad Me Omnes\\\". Next to the Main Building is the Basilica of the Sacred Heart. Immediately behind the basilica is the Grotto, a Marian place of prayer and reflection. It is a replica of the grotto at Lourdes, France where the Virgin Mary reputedly appeared to Saint Bernadette Soubirous in 1858. At the end of the main drive (and in a direct line that connects through 3 statues and the Gold Dome), is a simple, modern stone statue of Mary. Question:What is the Grotto at Notre Dame?\\n\\nAssistant:\", \"output\": \"a Marian place of prayer and reflection\"}\n"
          ]
        }
      ],
      "source": [
        "# What the squad dataset looks like after processing\n",
        "! head -200 $SQUAD_DIR/squad_train.jsonl > $SQUAD_DIR/squad_short_train.jsonl\n",
        "! head -20 $SQUAD_DIR/squad_val.jsonl > $SQUAD_DIR/squad_short_val.jsonl\n",
        "! head -4 $SQUAD_DIR/squad_short_val.jsonl\n",
        "! head -4 $SQUAD_DIR/squad_short_train.jsonl"
      ]
    },
    {
      "cell_type": "markdown",
      "id": "a111af69",
      "metadata": {
        "id": "a111af69"
      },
      "source": [
        "<br><br>"
      ]
    },
    {
      "cell_type": "markdown",
      "id": "f2bc23b0",
      "metadata": {
        "id": "f2bc23b0"
      },
      "source": [
        "# Model Config Setup\n",
        "Now we will begin setting up the config file needed for PEFT tuning. We use a single config for all supported PEFT methods (LoRA, Adapter and P-Tuning). All PEFT methods use the GPT finetuning class `MegatronGPTSFTModel` as the frozen base network.\n",
        "\n",
        "Let's create a config object for LoRA training."
      ]
    },
    {
      "cell_type": "code",
      "execution_count": null,
      "id": "365d76c0",
      "metadata": {
        "id": "365d76c0",
        "colab": {
          "base_uri": "https://localhost:8080/",
          "height": 389
        },
        "outputId": "1b543e2b-fb82-4f38-b3c3-32fef5388b8a"
      },
      "outputs": [
        {
          "output_type": "stream",
          "name": "stdout",
          "text": [
            "Collecting OmegaConf\n",
            "  Downloading omegaconf-2.3.0-py3-none-any.whl (79 kB)\n",
            "\u001b[2K     \u001b[90m━━━━━━━━━━━━━━━━━━━━━━━━━━━━━━━━━━━━━━━━\u001b[0m \u001b[32m79.5/79.5 kB\u001b[0m \u001b[31m1.1 MB/s\u001b[0m eta \u001b[36m0:00:00\u001b[0m\n",
            "\u001b[?25hCollecting antlr4-python3-runtime==4.9.* (from OmegaConf)\n",
            "  Downloading antlr4-python3-runtime-4.9.3.tar.gz (117 kB)\n",
            "\u001b[2K     \u001b[90m━━━━━━━━━━━━━━━━━━━━━━━━━━━━━━━━━━━━━━━━\u001b[0m \u001b[32m117.0/117.0 kB\u001b[0m \u001b[31m7.4 MB/s\u001b[0m eta \u001b[36m0:00:00\u001b[0m\n",
            "\u001b[?25h  Preparing metadata (setup.py) ... \u001b[?25l\u001b[?25hdone\n",
            "Requirement already satisfied: PyYAML>=5.1.0 in /usr/local/lib/python3.10/dist-packages (from OmegaConf) (6.0.1)\n",
            "Building wheels for collected packages: antlr4-python3-runtime\n",
            "  Building wheel for antlr4-python3-runtime (setup.py) ... \u001b[?25l\u001b[?25hdone\n",
            "  Created wheel for antlr4-python3-runtime: filename=antlr4_python3_runtime-4.9.3-py3-none-any.whl size=144554 sha256=3c2c0e582a52e837182ea8dc6c91d65e33870e3d4f763f2c919c3790a06dfa7c\n",
            "  Stored in directory: /root/.cache/pip/wheels/12/93/dd/1f6a127edc45659556564c5730f6d4e300888f4bca2d4c5a88\n",
            "Successfully built antlr4-python3-runtime\n",
            "Installing collected packages: antlr4-python3-runtime, OmegaConf\n",
            "Successfully installed OmegaConf-2.3.0 antlr4-python3-runtime-4.9.3\n"
          ]
        },
        {
          "output_type": "display_data",
          "data": {
            "application/vnd.colab-display-data+json": {
              "pip_warning": {
                "packages": [
                  "pydevd_plugins"
                ]
              },
              "id": "c6f0c770f9a6449380f399e9ab9e590b"
            }
          },
          "metadata": {}
        }
      ],
      "source": [
        "from omegaconf import OmegaConf\n",
        "\n",
        "CONFIG_DIR = os.path.join(NEMO_DIR, \"conf\")\n",
        "os.makedirs(CONFIG_DIR, exist_ok=True)\n",
        "\n",
        "# Download the example config file\n",
        "wget.download(f'https://raw.githubusercontent.com/NVIDIA/NeMo/main/examples/nlp/language_modeling/tuning/conf/megatron_gpt_finetuning_config.yaml', CONFIG_DIR)\n",
        "\n",
        "# Load the example config file so we can start editing it\n",
        "CONFIG_PATH = os.path.join(CONFIG_DIR, \"megatron_gpt_finetuning_config.yaml\")\n",
        "config = OmegaConf.load(CONFIG_PATH)"
      ]
    },
    {
      "cell_type": "markdown",
      "id": "6474e46d",
      "metadata": {
        "id": "6474e46d"
      },
      "source": [
        "The `config` contains several attributes required by the `MegatronGPTSFTModel`. First we will set the training data path and the validation data path in the config.\n",
        "The `config` allows us to set a list of `jsonl` files as training files and sample examples from each file with different probabilities. For simplicity, we are going to use just one training file and thus the sampling probability is set to `1.0`\n",
        "\n",
        "We can also monitor validation loss from multiple validation files during training. Again for simplicity we will use just one validation file."
      ]
    },
    {
      "cell_type": "code",
      "execution_count": null,
      "id": "198156f7",
      "metadata": {
        "id": "198156f7"
      },
      "outputs": [],
      "source": [
        "config.model.data.train_ds.file_names = [f\"{SQUAD_DIR}/squad_short_train.jsonl\"]\n",
        "config.model.data.train_ds.concat_sampling_probabilities=[1.0]\n",
        "config.model.data.validation_ds.file_names = [f\"{SQUAD_DIR}/squad_short_val.jsonl\"]\n",
        "config.model.data.validation_ds.names=[\"squad_val\"]"
      ]
    },
    {
      "cell_type": "markdown",
      "id": "23c49d7d",
      "metadata": {
        "id": "23c49d7d"
      },
      "source": [
        "<br>"
      ]
    },
    {
      "cell_type": "markdown",
      "id": "13d96742",
      "metadata": {
        "id": "13d96742"
      },
      "source": [
        "# PEFT Config\n",
        "The attribute [config.model.peft](https://github.com/NVIDIA/NeMo/blob/main/examples/nlp/language_modeling/tuning/conf/megatron_gpt_finetuning_config.yaml#L78) contains settings that control the PEFT training method and its related hyperpameters. We currently support `lora`, `adapter`, `ptuning` and `ia3`. We can instruct the training script to use one of these methods by setting the config.model.peft.peft_scheme attribute.\n",
        "\n",
        "The other hyperparams associated with lora tuning are present in the [config.model.peft.lora_tuning](https://github.com/NVIDIA/NeMo/blob/main/examples/nlp/language_modeling/tuning/conf/megatron_gpt_finetuning_config.yaml#L92) attribute."
      ]
    },
    {
      "cell_type": "code",
      "execution_count": null,
      "id": "ce6dcc38",
      "metadata": {
        "id": "ce6dcc38",
        "colab": {
          "base_uri": "https://localhost:8080/",
          "height": 110
        },
        "outputId": "1daf4496-3b16-4e8b-f68f-6149dbb9f5f4"
      },
      "outputs": [
        {
          "output_type": "error",
          "ename": "SyntaxError",
          "evalue": "invalid syntax (<ipython-input-12-ffa3723bb1c4>, line 1)",
          "traceback": [
            "\u001b[0;36m  File \u001b[0;32m\"<ipython-input-12-ffa3723bb1c4>\"\u001b[0;36m, line \u001b[0;32m1\u001b[0m\n\u001b[0;31m    config.model.peft.peft_scheme=<FIX ME>  # we can also set this to adapter or ptuning or ia3\u001b[0m\n\u001b[0m                                  ^\u001b[0m\n\u001b[0;31mSyntaxError\u001b[0m\u001b[0;31m:\u001b[0m invalid syntax\n"
          ]
        }
      ],
      "source": [
        "config.model.peft.peft_scheme=<FIX ME>  # we can also set this to adapter or ptuning or ia3\n",
        "print(OmegaConf.to_yaml(config.model.peft.lora_tuning))"
      ]
    },
    {
      "cell_type": "markdown",
      "id": "3374aa05",
      "metadata": {
        "id": "3374aa05"
      },
      "source": [
        "**Note:** In the original LoRA paper each attention projection (`K`, `Q`, `V` and `O`) can have their own Low-Rank projections. However, NeMo's attention implementation fuses `KQV` into a single projection and thus our LoRA implementation learns a single Low-Rank projection for `KQV` in a combined fashion. We do not support LoRA for the `O` matrix at this point."
      ]
    },
    {
      "cell_type": "markdown",
      "id": "0302d184",
      "metadata": {
        "id": "0302d184"
      },
      "source": [
        "### Prompt Formatting\n",
        "The `config.model.data.train_ds.prompt_template` attribute allows us to further tweak the format of the input and output if needed. In this example, we have already incorporated our format inside the `jsonl` file during preprocessing, so we can keep the `prompt_template` in the config simple."
      ]
    },
    {
      "cell_type": "code",
      "execution_count": null,
      "id": "31b1034f",
      "metadata": {
        "id": "31b1034f"
      },
      "outputs": [],
      "source": [
        "config.model.data.train_ds.prompt_template =\"{input} {output}\""
      ]
    },
    {
      "cell_type": "markdown",
      "id": "43003847",
      "metadata": {
        "id": "43003847"
      },
      "source": [
        "<br>"
      ]
    },
    {
      "cell_type": "markdown",
      "id": "838ceb50",
      "metadata": {
        "id": "838ceb50"
      },
      "source": [
        "# Setting the Pretrained GPT Model\n",
        "Next we will set the \"base language model\" upon which we will perform LoRA tuning. Obviously, larger base models will have better performance on downstream tasks but for the purposes of this tutorial we will use a small 345M parameter GPT model."
      ]
    },
    {
      "cell_type": "code",
      "execution_count": null,
      "id": "3476199e",
      "metadata": {
        "id": "3476199e"
      },
      "outputs": [],
      "source": [
        "# Check what GPT .nemo models we have available on NGC\n",
        "from nemo.collections.nlp.models.language_modeling.megatron_gpt_model import MegatronGPTModel\n",
        "megatron_gpt_345m_nemo_url = MegatronGPTModel.list_available_models()[0].location\n",
        "megatron_gpt_345m_nemo_url # should point to the 345m megatron gpt model '.nemo' file"
      ]
    },
    {
      "cell_type": "markdown",
      "id": "d02a7c45",
      "metadata": {
        "id": "d02a7c45"
      },
      "source": [
        "If we wanted to use the GPT model class directly, we could instantiate a trainer then download the model by calling running\n",
        "`gpt_model = MegatronGPTModel.from_pretrained(model_name=\"megatron_gpt_345m\", trainer=trainer).cuda()`. But we just need the `.nemo` file in our working NeMo directory in this tutorial, so we will download it using `wget`."
      ]
    },
    {
      "cell_type": "code",
      "execution_count": null,
      "id": "80c28ad7",
      "metadata": {
        "id": "80c28ad7"
      },
      "outputs": [],
      "source": [
        "# Download the model from NGC\n",
        "gpt_file_name = <FIX ME>\n",
        "!wget  -nc --content-disposition {megatron_gpt_345m_nemo_url} -O {NEMO_DIR}/{gpt_file_name}"
      ]
    },
    {
      "cell_type": "markdown",
      "id": "16dfbe7e",
      "metadata": {
        "id": "16dfbe7e"
      },
      "source": [
        "Now that we have a `.nemo` GPT file to work with. We need to add its path in our prompt learning config."
      ]
    },
    {
      "cell_type": "code",
      "execution_count": null,
      "id": "d432ee5e",
      "metadata": {
        "id": "d432ee5e"
      },
      "outputs": [],
      "source": [
        "# Set GPT model path on prompt learning config\n",
        "config.model.restore_from_path = gpt_file_name"
      ]
    },
    {
      "cell_type": "markdown",
      "id": "e9703a0f",
      "metadata": {
        "id": "e9703a0f"
      },
      "source": [
        "Next, we will set where we want to save all the intermediate training logs and checkpoints. As well as other training settings such as: number of training steps, batch size and validation check interval, and num_workers for data processing."
      ]
    },
    {
      "cell_type": "code",
      "execution_count": null,
      "id": "b4fc2f38",
      "metadata": {
        "id": "b4fc2f38"
      },
      "outputs": [],
      "source": [
        "config.exp_manager.exp_dir=f\"{NEMO_DIR}/peft_lora\"\n",
        "config.exp_manager.explicit_log_dir=\"training_info\"\n",
        "config.trainer.max_steps=100\n",
        "config.model.micro_batch_size=1\n",
        "config.model.global_batch_size=4\n",
        "config.trainer.val_check_interval=50\n",
        "config.model.data.train_ds.num_workers=0  # 0 is recommended which just uses the main thread to process training examples\n",
        "config.model.data.validation_ds.num_workers=0 # 0 is recommended which just uses the main thread to process the validation examples"
      ]
    },
    {
      "cell_type": "markdown",
      "id": "a2ac388a",
      "metadata": {
        "id": "a2ac388a"
      },
      "source": [
        "Let's have a look at all the values we've set in the model config. You can change any of these values in the same manner we've been using above."
      ]
    },
    {
      "cell_type": "code",
      "execution_count": null,
      "id": "bd98b68f",
      "metadata": {
        "id": "bd98b68f"
      },
      "outputs": [],
      "source": [
        "# Final model config\n",
        "print(OmegaConf.to_yaml(config.model))"
      ]
    },
    {
      "cell_type": "markdown",
      "id": "0106a108",
      "metadata": {
        "id": "0106a108"
      },
      "source": [
        "<br>"
      ]
    },
    {
      "cell_type": "markdown",
      "id": "5cd5f619",
      "metadata": {
        "id": "5cd5f619"
      },
      "source": [
        "# Building the PyTorch Lightning Trainer\n",
        "NeMo models are primarily PyTorch Lightning modules - and therefore are entirely compatible with the PyTorch Lightning ecosystem.\n",
        "\n",
        "Let's first instantiate a Trainer object"
      ]
    },
    {
      "cell_type": "code",
      "execution_count": null,
      "id": "9cb45341",
      "metadata": {
        "id": "9cb45341"
      },
      "outputs": [],
      "source": [
        "from nemo.collections.nlp.parts.nlp_overrides import NLPDDPStrategy\n",
        "import torch\n",
        "import pytorch_lightning as pl\n",
        "from nemo.collections.nlp.parts.megatron_trainer_builder import MegatronTrainerBuilder\n",
        "\n",
        "# let's modify some trainer configs\n",
        "# check if we have GPU available and uses it\n",
        "accelerator = 'gpu' if torch.cuda.is_available() else 'cpu'\n",
        "config.trainer.accelerator = accelerator\n",
        "config.trainer.devices = 1\n",
        "config.trainer.max_epochs = 2\n",
        "config.trainer.val_check_interval = 1.0\n",
        "\n",
        "# for PyTorch Native AMP set precision=16\n",
        "config.trainer.precision = 16 if torch.cuda.is_available() else 32\n",
        "\n",
        "# setup cluster environment parameters\"\n",
        "os.environ[\"LOCAL_RANK\"] = '0'\n",
        "os.environ[\"RANK\"] = '0'\n",
        "os.environ[\"WORLD_SIZE\"] = '1'\n",
        "\n",
        "trainer = MegatronTrainerBuilder(config).create_trainer()\n",
        "\n",
        "print(\"Trainer config - \\n\")\n",
        "print(OmegaConf.to_yaml(config.trainer))"
      ]
    },
    {
      "cell_type": "code",
      "execution_count": null,
      "id": "02da011e",
      "metadata": {
        "id": "02da011e"
      },
      "outputs": [],
      "source": [
        "print(OmegaConf.to_yaml(config.exp_manager))"
      ]
    },
    {
      "cell_type": "markdown",
      "id": "de2fef25",
      "metadata": {
        "id": "de2fef25"
      },
      "source": [
        "<br>"
      ]
    },
    {
      "cell_type": "markdown",
      "id": "b3de4afa",
      "metadata": {
        "id": "b3de4afa"
      },
      "source": [
        "# Setting up a NeMo Experiment\n",
        "\n",
        "NeMo has an experiment manager that handles logging and checkpointing for us, so let's use it:"
      ]
    },
    {
      "cell_type": "code",
      "execution_count": null,
      "id": "32976105",
      "metadata": {
        "id": "32976105"
      },
      "outputs": [],
      "source": [
        "from nemo.utils.exp_manager import exp_manager\n",
        "\n",
        "# Set name of the experiment\n",
        "config.name = 'lora_example_tuning'\n",
        "config.exp_manager.resume_if_exists = False\n",
        "\n",
        "# Init the experiment manager and view the exp_dir\n",
        "exp_dir = exp_manager(trainer, config.get(\"exp_manager\", None))\n",
        "exp_dir = str(exp_dir)\n",
        "print(exp_dir)"
      ]
    },
    {
      "cell_type": "markdown",
      "id": "53a0123c",
      "metadata": {
        "id": "53a0123c"
      },
      "source": [
        "<br>"
      ]
    },
    {
      "cell_type": "markdown",
      "id": "9e1420e7",
      "metadata": {
        "id": "9e1420e7"
      },
      "source": [
        "<br>"
      ]
    },
    {
      "cell_type": "markdown",
      "id": "b6a7026a",
      "metadata": {
        "id": "b6a7026a"
      },
      "source": [
        "# Training\n",
        "We now set up the process for training a LoRA model. We first require a config that contains details about the base language model upon which we will train our LoRA model. So we first extract the `model_cfg` from the checkpoint and update it with any new settings we employ in our current (LoRA) `config`. These are combined in the `merge_cfg_with` function.\n"
      ]
    },
    {
      "cell_type": "code",
      "execution_count": null,
      "id": "5d2ba991",
      "metadata": {
        "id": "5d2ba991"
      },
      "outputs": [],
      "source": [
        "from nemo.collections.nlp.models.language_modeling.megatron_gpt_sft_model import MegatronGPTSFTModel\n",
        "\n",
        "model_cfg = MegatronGPTSFTModel.merge_cfg_with(config.model.restore_from_path, config)"
      ]
    },
    {
      "cell_type": "markdown",
      "id": "c2d7978c",
      "metadata": {
        "id": "c2d7978c"
      },
      "source": [
        "Next, we instantiate the GPT model class and add the LoRA adapter\n",
        "When we call `add_adapter`, the model prints out the parameter count before and after the operation. We can clearly see the number of trainable parameters increase after adding the adapter.\n",
        "To print the parameter count manually, we can call `model.summarize()`."
      ]
    },
    {
      "cell_type": "code",
      "execution_count": null,
      "id": "91aa8c40",
      "metadata": {
        "id": "91aa8c40"
      },
      "outputs": [],
      "source": [
        "from nemo.collections.nlp.parts.peft_config import LoraPEFTConfig\n",
        "\n",
        "model = MegatronGPTSFTModel.restore_from(config.model.restore_from_path, model_cfg, trainer=trainer)\n",
        "model.add_adapter(LoraPEFTConfig(model_cfg))\n",
        "# print(\"Parameter count manually:\\n\", model.summarize())"
      ]
    },
    {
      "cell_type": "markdown",
      "id": "be197f67",
      "metadata": {
        "id": "be197f67"
      },
      "source": [
        "Simply substitute with the `MegatronT5SFTModel` class to use T5 instead of GPT.\n",
        "\n",
        "To use a different PEFT method, you can use a different config class in place of `LoraPEFTConfig`, such as `CanonicalAdaptersPEFTConfig`, `IA3PEFTConfig`, `PtuningPEFTConfig`.\n",
        "\n",
        "We're now ready to **start the model training**."
      ]
    },
    {
      "cell_type": "code",
      "execution_count": null,
      "id": "4df7fff7",
      "metadata": {
        "id": "4df7fff7"
      },
      "outputs": [],
      "source": [
        "<FIX ME>"
      ]
    },
    {
      "cell_type": "markdown",
      "id": "687d0ec1",
      "metadata": {
        "id": "687d0ec1"
      },
      "source": [
        "Once training is completed you should see a saved '.nemo' file in this folder `{config.exp_manager.explicit_log_dir}/checkpoints`. This checkpoint will only contain the trained adapter weights, and not the frozen base model weights."
      ]
    },
    {
      "cell_type": "code",
      "execution_count": null,
      "id": "8037e450",
      "metadata": {
        "id": "8037e450"
      },
      "outputs": [],
      "source": [
        "# The trained '.nemo' model is saved in the location below:\n",
        "! ls -lh {config.exp_manager.explicit_log_dir}/checkpoints\n",
        "print(config.exp_manager.explicit_log_dir)"
      ]
    },
    {
      "cell_type": "markdown",
      "id": "f76c903c",
      "metadata": {
        "id": "f76c903c"
      },
      "source": [
        "<br><br>"
      ]
    },
    {
      "cell_type": "markdown",
      "id": "050b255d",
      "metadata": {
        "id": "050b255d"
      },
      "source": [
        "# Inference\n",
        "The model object from `trainer.fit(model)` is also capable of doing inference. For the tutorial, however, we will re-load the saved `.nemo` lora model along with a `.nemo` base language model to simulate a more realistic scenario (where training does not happen right before inference).\n",
        "\n",
        "Run the cell below to reimport libraries and classes in case you did not run the training cells above."
      ]
    },
    {
      "cell_type": "code",
      "execution_count": null,
      "id": "f714ea17",
      "metadata": {
        "id": "f714ea17"
      },
      "outputs": [],
      "source": [
        "# reimport libraries and classes in case one wants to only run cells from the Inference section\n",
        "#%cd /NeMo/tutorials/nlp\n",
        "import wget, os, sys\n",
        "sys.path.insert(0, \"../..\")  # find the local nemo first before the installed nemo\n",
        "from omegaconf import OmegaConf\n",
        "from nemo.collections.nlp.parts.megatron_trainer_builder import MegatronTrainerBuilder\n",
        "from nemo.collections.nlp.parts.peft_config import LoraPEFTConfig\n",
        "from nemo.collections.nlp.models.language_modeling.megatron_gpt_sft_model import MegatronGPTSFTModel\n",
        "\n",
        "NEMO_DIR = \".\"\n",
        "DATA_DIR = \"data\"\n",
        "CONFIG_DIR = os.path.join(NEMO_DIR, \"conf\")\n",
        "SQUAD_DIR = os.path.join(DATA_DIR, \"SQuAD\")"
      ]
    },
    {
      "cell_type": "markdown",
      "id": "6fd74206",
      "metadata": {
        "id": "6fd74206"
      },
      "source": [
        "First, we will load and modify a config file that will be used for inference.\n"
      ]
    },
    {
      "cell_type": "code",
      "execution_count": null,
      "id": "b3d0a571",
      "metadata": {
        "id": "b3d0a571"
      },
      "outputs": [],
      "source": [
        "# Download the example config file\n",
        "wget.download(f'https://raw.githubusercontent.com/NVIDIA/NeMo/{BRANCH}/examples/nlp/language_modeling/tuning/conf/megatron_gpt_generate_config.yaml', CONFIG_DIR)"
      ]
    },
    {
      "cell_type": "code",
      "execution_count": null,
      "id": "b6bcb6e8",
      "metadata": {
        "id": "b6bcb6e8"
      },
      "outputs": [],
      "source": [
        "# Load the example config file so we can start editing it\n",
        "CONFIG_EVAL_PATH = os.path.join(CONFIG_DIR, \"megatron_gpt_generate_config.yaml\")\n",
        "config_eval = OmegaConf.load(CONFIG_EVAL_PATH)"
      ]
    },
    {
      "cell_type": "markdown",
      "id": "cb672fdd",
      "metadata": {
        "id": "cb672fdd"
      },
      "source": [
        "We are going to modify the `config_eval` object that we created above. We will set the base language model as the `345m` model we downloaded earlier.\n",
        "\n",
        "Additionally, we will also set the `model.peft.restore_from_path` with the lora model we just trained. For the tutorial we will just use the validation data for inference as well."
      ]
    },
    {
      "cell_type": "code",
      "execution_count": null,
      "id": "8619dbd4",
      "metadata": {
        "id": "8619dbd4"
      },
      "outputs": [],
      "source": [
        "config_eval.model.restore_from_path=\"megatron_gpt_345m.nemo\"\n",
        "config_eval.model.peft.restore_from_path=<FIX ME>\n",
        "config_eval.model.data.test_ds.file_names=[f\"{SQUAD_DIR}/squad_short_val.jsonl\"]\n",
        "config_eval.model.data.test_ds.names=[\"test_set\"]\n",
        "config_eval.model.data.test_ds.global_batch_size=1\n",
        "config_eval.model.data.test_ds.micro_batch_size=1\n",
        "config_eval.model.data.test_ds.tokens_to_generate=30\n",
        "config_eval.inference.greedy=True"
      ]
    },
    {
      "cell_type": "code",
      "execution_count": null,
      "id": "dd14b9a1",
      "metadata": {
        "id": "dd14b9a1"
      },
      "outputs": [],
      "source": [
        "trainer_eval = MegatronTrainerBuilder(config_eval).create_trainer()"
      ]
    },
    {
      "cell_type": "markdown",
      "id": "47848a5d",
      "metadata": {
        "id": "47848a5d"
      },
      "source": [
        "The `config_eval` object is the hydra config at \"inference/test time\". This means it should contain information relevant for inference/test time, although some properties that were set at training time are still relevant. For example, whether training was done with `BOS` enabled or not, and other model specific attributes.\n",
        "\n",
        "So we extract the relevant information from the '.nemo' file of the lora model we just trained using the `merge_inference_cfg` function."
      ]
    },
    {
      "cell_type": "code",
      "execution_count": null,
      "id": "19472bce",
      "metadata": {
        "id": "19472bce"
      },
      "outputs": [],
      "source": [
        "eval_model_cfg = MegatronGPTSFTModel.merge_inference_cfg(config_eval.model.peft.restore_from_path, config_eval)"
      ]
    },
    {
      "cell_type": "markdown",
      "id": "3030a115",
      "metadata": {
        "id": "3030a115"
      },
      "source": [
        "The cell below is required if you are running the notebook end-to-end, and if you use a different batch size for training and evaluation. In this case, the microbatch calculator needs to be rest. If you are running training only or inference only, feel free to ignore this cell."
      ]
    },
    {
      "cell_type": "code",
      "execution_count": null,
      "id": "e1d4c7bc",
      "metadata": {
        "id": "e1d4c7bc"
      },
      "outputs": [],
      "source": [
        "from apex.transformer.pipeline_parallel.utils import _reconfigure_microbatch_calculator\n",
        "_reconfigure_microbatch_calculator(\n",
        "    rank=0,\n",
        "    rampup_batch_size=None,\n",
        "    global_batch_size=config_eval.model.global_batch_size,\n",
        "    micro_batch_size=config_eval.model.micro_batch_size,\n",
        "    data_parallel_size=1,\n",
        ")"
      ]
    },
    {
      "cell_type": "markdown",
      "id": "33db2f30",
      "metadata": {
        "id": "33db2f30"
      },
      "source": [
        "Then, we load the base language model as well as the lora model we just trained."
      ]
    },
    {
      "cell_type": "code",
      "execution_count": null,
      "id": "64573d43",
      "metadata": {
        "id": "64573d43"
      },
      "outputs": [],
      "source": [
        "model_eval = MegatronGPTSFTModel.restore_from(config_eval.model.restore_from_path, eval_model_cfg, trainer=trainer_eval)\n",
        "model_eval.load_adapters(config_eval.model.peft.restore_from_path, LoraPEFTConfig(eval_model_cfg))\n",
        "model_eval.freeze()\n",
        "\n",
        "print(\"Parameter count manually:\\n\", model_eval.summarize())"
      ]
    },
    {
      "cell_type": "markdown",
      "id": "ae61df17",
      "metadata": {
        "id": "ae61df17"
      },
      "source": [
        "Next, we prepare the dataset and the dataloader objects that the model will perform inference on."
      ]
    },
    {
      "cell_type": "code",
      "execution_count": null,
      "id": "bd594510",
      "metadata": {
        "id": "bd594510"
      },
      "outputs": [],
      "source": [
        "_test_ds = model_eval._build_dataset(eval_model_cfg.data.test_ds, is_train=False)\n",
        "from torch.utils.data import DataLoader\n",
        "request_dl = DataLoader(\n",
        "    dataset=_test_ds[0],\n",
        "    batch_size=eval_model_cfg.data.test_ds.global_batch_size,\n",
        "    collate_fn=_test_ds[0].collate_fn,\n",
        ")\n",
        "config_inference = OmegaConf.to_container(config_eval.inference, resolve=True)\n",
        "model_eval.set_inference_config(config_inference)"
      ]
    },
    {
      "cell_type": "markdown",
      "id": "23a8d5a1",
      "metadata": {
        "id": "23a8d5a1"
      },
      "source": [
        "And finally, we call `trainer.predict` which triggers the inference process. The `response` object contains the outputs of the model."
      ]
    },
    {
      "cell_type": "code",
      "execution_count": null,
      "id": "5cf4cc93",
      "metadata": {
        "id": "5cf4cc93"
      },
      "outputs": [],
      "source": [
        "response = trainer_eval.predict(model_eval, request_dl)\n",
        "for batch in response:\n",
        "    for s in batch['sentences']:\n",
        "        print(f\"{s}\\n\\n\")"
      ]
    },
    {
      "cell_type": "markdown",
      "id": "9ba2c52b",
      "metadata": {
        "id": "9ba2c52b"
      },
      "source": [
        "<br><br><br><br>**Congratulations on completing this section of NeMo Megatron (GPT model) with LoRA PEFT training!**<br>\n",
        "*In this section, we showcased NeMo's capabilities for training large-scale language models, specifically using the Megatron framework and LoRA for Parameter Efficient Fine Tuning (PEFT). NeMo provides pre-trained models and tools tailored for efficient fine-tuning, empowering you to customize GPT models for specific tasks.*\n",
        "\n",
        "> Remember that NeMo Megatron, with its integration of LoRA for PEFT, offers extensive capabilities beyond what we've covered here. This tutorial provides a glimpse into the potential of NeMo for large-scale language model training. Delve into the documentation, example code, and engage with the supportive community to further enhance your proficiency with NeMo Megatron!"
      ]
    }
  ],
  "metadata": {
    "kernelspec": {
      "display_name": "Python 3 (ipykernel)",
      "language": "python",
      "name": "python3"
    },
    "language_info": {
      "codemirror_mode": {
        "name": "ipython",
        "version": 3
      },
      "file_extension": ".py",
      "mimetype": "text/x-python",
      "name": "python",
      "nbconvert_exporter": "python",
      "pygments_lexer": "ipython3",
      "version": "3.10.12"
    },
    "colab": {
      "provenance": [],
      "include_colab_link": true
    }
  },
  "nbformat": 4,
  "nbformat_minor": 5
}